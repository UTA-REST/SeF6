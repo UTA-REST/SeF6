{
 "cells": [
  {
   "cell_type": "code",
   "execution_count": 1,
   "metadata": {
    "collapsed": true
   },
   "outputs": [],
   "source": [
    "import pylab\n",
    "import numpy\n",
    "import matplotlib\n",
    "%matplotlib inline"
   ]
  },
  {
   "cell_type": "code",
   "execution_count": 2,
   "metadata": {
    "collapsed": true
   },
   "outputs": [],
   "source": [
    "matplotlib.rcParams.update({'font.size': 14})"
   ]
  },
  {
   "cell_type": "code",
   "execution_count": 3,
   "metadata": {
    "collapsed": true
   },
   "outputs": [],
   "source": [
    "fileBi=open(\"BackgroundsData/Gamma-Bi-100M.txt\")\n",
    "ContentBi=fileBi.readlines()\n",
    "NBins,Min,Max=numpy.array(ContentBi[0][1:-3].split(\",\"),dtype='int')\n",
    "Bins=numpy.linspace(Min,Max,NBins+2)\n",
    "ValsBi={}\n",
    "\n",
    "for line in ContentBi[1:]:\n",
    "    ValsBi[int(line.split(\",\")[0].split('(')[-1])]=float(line.split(\",\")[1][:-3])"
   ]
  },
  {
   "cell_type": "code",
   "execution_count": 8,
   "metadata": {},
   "outputs": [
    {
     "data": {
      "image/png": "[encoded data removed]",
      "text/plain": [
       "<matplotlib.figure.Figure at 0x10e9bfa20>"
      ]
     },
     "metadata": {},
     "output_type": "display_data"
    }
   ],
   "source": [
    "pylab.figure(figsize=(10,4))\n",
    "thehistBi=pylab.hist([Bins[x] for x in ValsBi.keys()],weights=list(ValsBi.values()),bins=Bins,histtype='step',color='DarkGreen',label=\"$^{214}$Bi\")\n",
    "pylab.plot([2995,2995],[0,1e8],'--',color='red',linewidth=2,label=r\"Q$_{\\beta\\beta}$[Se]\")\n",
    "pylab.plot([2462,2462],[0,1e8],'--',color='purple',linewidth=2,label=r\"Q$_{\\beta\\beta}$[Xe]\")\n",
    "pylab.ylabel(\"Gammas / arb\")\n",
    "pylab.semilogy()\n",
    "pylab.xlabel(\"Energy / keV\")\n",
    "pylab.ylim(1e-1,1e8)\n",
    "pylab.legend(loc='upper right',fontsize=14,fancybox=True)\n",
    "ax=pylab.gca()\n",
    "handles, labels = ax.get_legend_handles_labels()\n",
    "handles=[handles[2],handles[0],handles[1]]\n",
    "labels=[labels[2],labels[0],labels[1]]\n",
    "pylab.legend(handles, labels,fontsize=14,fancybox=True)\n",
    "\n",
    "pylab.yscale(\"log\",nonposx='clip')\n",
    "\n",
    "pylab.tight_layout()\n",
    "pylab.savefig(\"BiEvents.png\",dpi=200,bbox_inches=0)"
   ]
  },
  {
   "cell_type": "code",
   "execution_count": null,
   "metadata": {
    "collapsed": true
   },
   "outputs": [],
   "source": []
  },
  {
   "cell_type": "code",
   "execution_count": 9,
   "metadata": {
    "collapsed": true
   },
   "outputs": [],
   "source": [
    "fileTl=open(\"BackgroundsData/Gamma-Tl-100M.txt\")\n",
    "ContentTl=fileTl.readlines()\n",
    "NBins,Min,Max=numpy.array(ContentTl[0][1:-3].split(\",\"),dtype='int')\n",
    "Bins=numpy.linspace(Min,Max,NBins+2)\n",
    "ValsTl={}\n",
    "\n",
    "for line in ContentTl[1:]:\n",
    "    ValsTl[int(line.split(\",\")[0].split('(')[-1])]=float(line.split(\",\")[1][:-3])"
   ]
  },
  {
   "cell_type": "code",
   "execution_count": 10,
   "metadata": {},
   "outputs": [
    {
     "ename": "IndexError",
     "evalue": "only integers, slices (`:`), ellipsis (`...`), numpy.newaxis (`None`) and integer or boolean arrays are valid indices",
     "output_type": "error",
     "traceback": [
      "\u001b[0;31m---------------------------------------------------------------------------\u001b[0m",
      "\u001b[0;31mIndexError\u001b[0m                                Traceback (most recent call last)",
      "\u001b[0;32m<ipython-input-10-540f7eb5cf77>\u001b[0m in \u001b[0;36m<module>\u001b[0;34m()\u001b[0m\n\u001b[1;32m      1\u001b[0m \u001b[0mpylab\u001b[0m\u001b[0;34m.\u001b[0m\u001b[0mfigure\u001b[0m\u001b[0;34m(\u001b[0m\u001b[0mfigsize\u001b[0m\u001b[0;34m=\u001b[0m\u001b[0;34m(\u001b[0m\u001b[0;36m10\u001b[0m\u001b[0;34m,\u001b[0m\u001b[0;36m4\u001b[0m\u001b[0;34m)\u001b[0m\u001b[0;34m)\u001b[0m\u001b[0;34m\u001b[0m\u001b[0m\n\u001b[0;32m----> 2\u001b[0;31m \u001b[0mthehistTl\u001b[0m\u001b[0;34m=\u001b[0m\u001b[0mpylab\u001b[0m\u001b[0;34m.\u001b[0m\u001b[0mhist\u001b[0m\u001b[0;34m(\u001b[0m\u001b[0mBins\u001b[0m\u001b[0;34m[\u001b[0m\u001b[0mValsTl\u001b[0m\u001b[0;34m.\u001b[0m\u001b[0mkeys\u001b[0m\u001b[0;34m(\u001b[0m\u001b[0;34m)\u001b[0m\u001b[0;34m]\u001b[0m\u001b[0;34m,\u001b[0m\u001b[0mweights\u001b[0m\u001b[0;34m=\u001b[0m\u001b[0mValsTl\u001b[0m\u001b[0;34m.\u001b[0m\u001b[0mvalues\u001b[0m\u001b[0;34m(\u001b[0m\u001b[0;34m)\u001b[0m\u001b[0;34m,\u001b[0m\u001b[0mbins\u001b[0m\u001b[0;34m=\u001b[0m\u001b[0mBins\u001b[0m\u001b[0;34m,\u001b[0m\u001b[0mhisttype\u001b[0m\u001b[0;34m=\u001b[0m\u001b[0;34m'step'\u001b[0m\u001b[0;34m,\u001b[0m\u001b[0mcolor\u001b[0m\u001b[0;34m=\u001b[0m\u001b[0;34m'DarkBlue'\u001b[0m\u001b[0;34m,\u001b[0m\u001b[0mlabel\u001b[0m\u001b[0;34m=\u001b[0m\u001b[0;34m\"$^{208}$Tl\"\u001b[0m\u001b[0;34m)\u001b[0m\u001b[0;34m\u001b[0m\u001b[0m\n\u001b[0m\u001b[1;32m      3\u001b[0m \u001b[0mpylab\u001b[0m\u001b[0;34m.\u001b[0m\u001b[0msemilogy\u001b[0m\u001b[0;34m(\u001b[0m\u001b[0;34m)\u001b[0m\u001b[0;34m\u001b[0m\u001b[0m\n\u001b[1;32m      4\u001b[0m \u001b[0mpylab\u001b[0m\u001b[0;34m.\u001b[0m\u001b[0mplot\u001b[0m\u001b[0;34m(\u001b[0m\u001b[0;34m[\u001b[0m\u001b[0;36m2995\u001b[0m\u001b[0;34m,\u001b[0m\u001b[0;36m2995\u001b[0m\u001b[0;34m]\u001b[0m\u001b[0;34m,\u001b[0m\u001b[0;34m[\u001b[0m\u001b[0;36m0\u001b[0m\u001b[0;34m,\u001b[0m\u001b[0;36m1e8\u001b[0m\u001b[0;34m]\u001b[0m\u001b[0;34m,\u001b[0m\u001b[0;34m'--'\u001b[0m\u001b[0;34m,\u001b[0m\u001b[0mcolor\u001b[0m\u001b[0;34m=\u001b[0m\u001b[0;34m'red'\u001b[0m\u001b[0;34m,\u001b[0m\u001b[0mlinewidth\u001b[0m\u001b[0;34m=\u001b[0m\u001b[0;36m2\u001b[0m\u001b[0;34m,\u001b[0m\u001b[0mlabel\u001b[0m\u001b[0;34m=\u001b[0m\u001b[0;34mr\"Q$_{\\beta\\beta}$[Se]\"\u001b[0m\u001b[0;34m)\u001b[0m\u001b[0;34m\u001b[0m\u001b[0m\n\u001b[1;32m      5\u001b[0m \u001b[0mpylab\u001b[0m\u001b[0;34m.\u001b[0m\u001b[0mplot\u001b[0m\u001b[0;34m(\u001b[0m\u001b[0;34m[\u001b[0m\u001b[0;36m2462\u001b[0m\u001b[0;34m,\u001b[0m\u001b[0;36m2462\u001b[0m\u001b[0;34m]\u001b[0m\u001b[0;34m,\u001b[0m\u001b[0;34m[\u001b[0m\u001b[0;36m0\u001b[0m\u001b[0;34m,\u001b[0m\u001b[0;36m1e8\u001b[0m\u001b[0;34m]\u001b[0m\u001b[0;34m,\u001b[0m\u001b[0;34m'--'\u001b[0m\u001b[0;34m,\u001b[0m\u001b[0mcolor\u001b[0m\u001b[0;34m=\u001b[0m\u001b[0;34m'purple'\u001b[0m\u001b[0;34m,\u001b[0m\u001b[0mlinewidth\u001b[0m\u001b[0;34m=\u001b[0m\u001b[0;36m2\u001b[0m\u001b[0;34m,\u001b[0m\u001b[0mlabel\u001b[0m\u001b[0;34m=\u001b[0m\u001b[0;34mr\"Q$_{\\beta\\beta}$[Xe]\"\u001b[0m\u001b[0;34m)\u001b[0m\u001b[0;34m\u001b[0m\u001b[0m\n",
      "\u001b[0;31mIndexError\u001b[0m: only integers, slices (`:`), ellipsis (`...`), numpy.newaxis (`None`) and integer or boolean arrays are valid indices"
     ]
    },
    {
     "data": {
      "text/plain": [
       "<matplotlib.figure.Figure at 0x10fa065c0>"
      ]
     },
     "metadata": {},
     "output_type": "display_data"
    }
   ],
   "source": [
    "pylab.figure(figsize=(10,4))\n",
    "thehistBi=pylab.hist([Bins[x] for x in ValsBi.keys()],weights=list(ValsBi.values()),bins=Bins,histtype='step',color='DarkGreen',label=\"$^{214}$Bi\")\n",
    "\n",
    "pylab.semilogy()\n",
    "pylab.plot([2995,2995],[0,1e8],'--',color='red',linewidth=2,label=r\"Q$_{\\beta\\beta}$[Se]\")\n",
    "pylab.plot([2462,2462],[0,1e8],'--',color='purple',linewidth=2,label=r\"Q$_{\\beta\\beta}$[Xe]\")\n",
    "\n",
    "pylab.legend(loc='upper right',fancybox=True)\n",
    "pylab.xlabel(\"Energy / keV\")\n",
    "pylab.ylim(1e-1,1e8)\n",
    "pylab.ylabel(\"Gammas / arb\")\n",
    "ax=pylab.gca()\n",
    "handles, labels = ax.get_legend_handles_labels()\n",
    "handles=[handles[2],handles[0],handles[1]]\n",
    "labels=[labels[2],labels[0],labels[1]]\n",
    "pylab.legend(handles, labels,fontsize=14,fancybox=True)\n",
    "\n",
    "pylab.yscale(\"log\",nonposx='clip')\n",
    "pylab.tight_layout()\n",
    "pylab.savefig(\"TlEvents.png\",dpi=200,bbox_inches=0)"
   ]
  },
  {
   "cell_type": "code",
   "execution_count": null,
   "metadata": {
    "collapsed": true
   },
   "outputs": [],
   "source": [
    "pylab.figure(figsize=(5,4))\n",
    "thehist=pylab.hist(Bins[ValsTl.keys()],weights=ValsTl.values(),bins=Bins,histtype='step',color='DarkBlue',label=\"$^{208}$Tl\")\n",
    "thehist=pylab.hist(Bins[ValsBi.keys()],weights=ValsBi.values(),bins=Bins,histtype='step',color='DarkGreen',label=\"$^{214}$Bi\")\n",
    "\n",
    "pylab.xlim(2995-50,2995+50)\n",
    "pylab.fill_betweenx([0,1e8],[2995*0.993,2995*0.993],[2995*1.007,2995*1.007],color='red',alpha='0.1')\n",
    "pylab.legend(loc='upper right',fontsize=14,fancybox=True)\n",
    "pylab.semilogy()\n",
    "pylab.plot([2995,2995],[0,1e8],'--',color='red',linewidth=2)\n",
    "\n",
    "\n",
    "\n",
    "pylab.xlabel(\"Energy / keV\")\n",
    "pylab.ylim(1e-1,1e8)\n",
    "pylab.yscale(\"log\",nonposx='clip')\n",
    "pylab.title(r\"Q$_{\\beta\\beta}$[$^{82}$Se] $\\pm$ 0.7%\",fontsize=14)\n",
    "pylab.ylabel(\"Gammas / arb\")\n",
    "\n",
    "\n",
    "pylab.tight_layout()\n",
    "pylab.savefig(\"SeCloseup.png\",dpi=200,bbox_inches=0)\n",
    "pylab.show()\n",
    "\n",
    "pylab.figure(figsize=(5,4))\n",
    "thehist=pylab.hist(Bins[ValsTl.keys()],weights=ValsTl.values(),bins=Bins,histtype='step',color='DarkBlue',label=\"$^{208}$Tl\")\n",
    "thehist=pylab.hist(Bins[ValsBi.keys()],weights=ValsBi.values(),bins=Bins,histtype='step',color='DarkGreen',label=\"$^{214}$Bi\")\n",
    "\n",
    "pylab.xlim(2462-50,2462+50)\n",
    "pylab.fill_betweenx([0,1e8],[2462*0.993,2463*0.993],[2462*1.007,2462*1.007],color='purple',alpha='0.1')\n",
    "pylab.legend(loc='upper right',fontsize=14,fancybox=True)\n",
    "pylab.semilogy()\n",
    "\n",
    "pylab.plot([2462,2462],[0,1e8],'--',color='purple',linewidth=2)\n",
    "\n",
    "\n",
    "pylab.ylabel(\"Gammas / arb\")\n",
    "\n",
    "\n",
    "pylab.xlabel(\"Energy / keV\")\n",
    "pylab.ylim(1e-1,1e8)\n",
    "pylab.yscale(\"log\",nonposx='clip')\n",
    "pylab.title(r\"Q$_{\\beta\\beta}$[$^{136}$Xe] $\\pm$ 0.7%\",fontsize=14)\n",
    "pylab.tight_layout()\n",
    "pylab.savefig(\"XeCloseup.png\",dpi=200,bbox_inches=0)\n",
    "\n"
   ]
  },
  {
   "cell_type": "code",
   "execution_count": null,
   "metadata": {
    "collapsed": true
   },
   "outputs": [],
   "source": [
    "BiXes=[]\n",
    "BiSes=[]\n",
    "TlXes=[]\n",
    "TlSes=[]\n",
    "\n",
    "\n",
    "\n",
    "QXe=2462\n",
    "QSe=2995\n",
    "widths=numpy.logspace(-4,0,100)\n",
    "for w in widths:\n",
    "    BiXes.append(sum((numpy.exp(-((thehistBi[1][1:]/QXe-1.)/(2.*w))**2)*thehistBi[0])))\n",
    "    BiSes.append(sum((numpy.exp(-((thehistBi[1][1:]/QSe-1.)/(2.*w))**2)*thehistBi[0])))\n",
    "    \n",
    "BiXes=numpy.array(BiXes)\n",
    "BiSes=numpy.array(BiSes)\n"
   ]
  },
  {
   "cell_type": "code",
   "execution_count": null,
   "metadata": {
    "collapsed": true
   },
   "outputs": [],
   "source": [
    "pylab.figure(figsize=(6,5))\n",
    "pylab.loglog(widths*1e2,BiSes/BiXes,linewidth=2)\n",
    "pylab.xlim(1e-1,100)\n",
    "pylab.xlabel(\"Gaussian Energy Resolution / % FWHM\",fontsize=15)\n",
    "pylab.ylabel(\"Background Ratio\\n $^{214}$Bi [Se] / $^{214}$Bi [Xe]\",fontsize=15)\n",
    "pylab.ylim(1e-2,1)\n",
    "pylab.fill_betweenx([1e-2,1],[1e-1,1e-1],[0.36,0.36],color='DimGrey',alpha=0.2,zorder=0)\n",
    "pylab.text(0.4,0.5,'Intrinsic SeF$_6$',rotation=90,color='DarkRed',fontsize=14)\n",
    "pylab.text(0.2,0.5,'Intrinsic Xe',rotation=90,color='red',fontsize=14)\n",
    "\n",
    "\n",
    "pylab.plot([0.28,0.28],[1e-2,1],'--',color='red',linewidth=2)\n",
    "pylab.plot([0.36,0.36],[1e-2,1],'--',color='DarkRed',linewidth=2)\n",
    "pylab.grid(axis='y',which='both')\n",
    "pylab.grid(axis='x',which='both')\n",
    "pylab.tight_layout()\n",
    "pylab.savefig(\"BGratio.png\",dpi=200,bbox_inches=0)\n"
   ]
  },
  {
   "cell_type": "code",
   "execution_count": null,
   "metadata": {
    "collapsed": true
   },
   "outputs": [],
   "source": [
    "pylab.figure(figsize=(6,5))\n",
    "pylab.loglog(widths*1e2,BiSes*7/BiXes[42],linewidth=2)\n",
    "pylab.xlim(1e-1,100)\n",
    "pylab.xlabel(\"Gaussian Energy Resolution / % FWHM\",fontsize=15)\n",
    "pylab.ylabel(\"Background Index \\n ct / [ton yr FWHM]\",fontsize=15)\n",
    "pylab.ylim(1e-2,10)\n",
    "pylab.fill_betweenx([1e-2,10],[1e-1,1e-1],[0.36,0.36],color='DimGrey',alpha=0.2,zorder=0)\n",
    "pylab.text(0.4,5,'Intrinsic SeF$_6$',rotation=90,color='DarkRed',fontsize=14)\n",
    "\n",
    "\n",
    "pylab.xlim(1e-1,10)\n",
    "pylab.plot([0.36,0.36],[1e-2,10],'--',color='DarkRed',linewidth=2)\n",
    "pylab.grid(axis='y',which='both')\n",
    "pylab.grid(axis='x',which='both')\n",
    "pylab.tight_layout()\n",
    "pylab.savefig(\"BGIndex.png\",dpi=200,bbox_inches=0)\n",
    "\n"
   ]
  },
  {
   "cell_type": "code",
   "execution_count": null,
   "metadata": {
    "collapsed": true
   },
   "outputs": [],
   "source": [
    "pylab.figure(figsize=(6,8))\n",
    "pylab.xlim(1e-1,100)\n",
    "pylab.xlabel(\"Gaussian Energy Resolution / % FWHM\",fontsize=15)\n",
    "pylab.ylabel(\"Background Index \\n ct / [ton yr FWHM]\",fontsize=15)\n",
    "pylab.ylim(1e-2,1000)\n",
    "#pylab.fill_betweenx([1e-2,10],[1e-1,1e-1],[0.36,0.36],color='DimGrey',alpha=0.2,zorder=0)\n",
    "#pylab.text(0.4,5,'Intrinsic SeF$_6$',rotation=90,color='DarkRed',fontsize=14)\n",
    "\n",
    "pylab.plot([2.7],[130],'s',color='DarkRed',label=\"EXO-200 / LXe\",markersize=10)\n",
    "pylab.plot([0.7],[7],'o',color='red',label=\"NEXT-100 / HPGXe\",markersize=10)\n",
    "pylab.loglog(widths*1e2,BiSes*7/BiXes[42],linewidth=2,label=\"SeF6-100\")\n",
    "\n",
    "\n",
    "pylab.xlim(1e-1,10)\n",
    "pylab.plot([0.1,10],[0.1,0.1],'--',color='purple',linewidth=2)\n",
    "pylab.text(3,0.12,\"NSAC Goal\",color='purple')\n",
    "pylab.text(0.12,0.12,\"1x\",color='purple')\n",
    "pylab.text(0.12,1.2,\"10x\",color='purple')\n",
    "pylab.text(0.12,12,\"100x\",color='purple')\n",
    "pylab.text(0.12,120,\"1000x\",color='purple')\n",
    "pylab.grid(axis='y',which='both')\n",
    "pylab.grid(axis='x',which='both')\n",
    "pylab.tight_layout()\n",
    "pylab.legend(loc='upper left',fontsize=14)\n",
    "pylab.savefig(\"TPCComparison.png\",dpi=200,bbox_inches=0)\n",
    "\n",
    "\n"
   ]
  },
  {
   "cell_type": "code",
   "execution_count": null,
   "metadata": {
    "collapsed": true
   },
   "outputs": [],
   "source": [
    "1e9**2/0.1"
   ]
  },
  {
   "cell_type": "code",
   "execution_count": null,
   "metadata": {
    "collapsed": true
   },
   "outputs": [],
   "source": []
  }
 ],
 "metadata": {
  "kernelspec": {
   "display_name": "Python 3",
   "language": "python",
   "name": "python3"
  }
 },
 "nbformat": 4,
 "nbformat_minor": 2
}
